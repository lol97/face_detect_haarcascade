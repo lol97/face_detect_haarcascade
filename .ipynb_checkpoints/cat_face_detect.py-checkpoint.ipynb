{
 "cells": [
  {
   "cell_type": "markdown",
   "metadata": {},
   "source": [
    "## cat face detect\n",
    "raw code based on haar cascade : https://raw.githubusercontent.com/opencv/opencv/master/data/haarcascades/haarcascade_frontalcatface.xml\n"
   ]
  },
  {
   "cell_type": "code",
   "execution_count": 19,
   "metadata": {},
   "outputs": [],
   "source": [
    "'''\n",
    "Cat Faces Detection\n",
    "Sufyan Saori\n",
    "'''\n",
    "\n",
    "import cv2\n",
    "import matplotlib.pyplot as plt\n",
    "\n",
    "cascade_path = \"haarcascade_frontalcatface.xml\" #change to your cascade path\n",
    "\n",
    "cat_cascade =  cv2.CascadeClassifier(cascade_path)\n",
    "\n",
    "path_img = \"multi_face.jpg\" #change to your image path\n",
    "\n",
    "img = cv2.imread(path_img)\n",
    "img_gray = cv2.cvtColor (img, cv2.COLOR_BGR2GRAY)\n",
    "\n",
    "faces = cat_cascade.detectMultiScale(img, scaleFactor=1.1,\n",
    "\tminNeighbors=2, minSize=(20, 20))\n",
    "\n",
    "for i, (x, y, w, h) in enumerate(faces) :\n",
    "    cv2.rectangle(img, (x,y), (x+w, y+h), (255,0,0), 2)\n",
    "    cv2.putText(img, \"Cat #{}\".format(i + 1), (x, y - 10), cv2.FONT_HERSHEY_SIMPLEX, 0.55, (0, 0, 255), 2)\n",
    "\n",
    "# use this for cv2 windows show\n",
    "cv2.imshow('cat faces', img)\n",
    "cv2.waitKey()\n",
    "cv2.destroyAllWindows()\n",
    "\n",
    "# use this for plot show jupyter\n",
    "# img2 = cv2.cvtColor(img, cv2.COLOR_BGR2RGB) #Converts from one colour space to the other\n",
    "\n",
    "# plt.imshow(img2)\n",
    "# plt.xticks([]), plt.yticks([])  # Hides the graph ticks and x / y axis\n",
    "# plt.show()"
   ]
  }
 ],
 "metadata": {
  "kernelspec": {
   "display_name": "Python 3",
   "language": "python",
   "name": "python3"
  },
  "language_info": {
   "codemirror_mode": {
    "name": "ipython",
    "version": 3
   },
   "file_extension": ".py",
   "mimetype": "text/x-python",
   "name": "python",
   "nbconvert_exporter": "python",
   "pygments_lexer": "ipython3",
   "version": "3.8.5"
  }
 },
 "nbformat": 4,
 "nbformat_minor": 4
}
